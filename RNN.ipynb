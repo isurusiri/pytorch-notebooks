{
 "cells": [
  {
   "cell_type": "code",
   "execution_count": 1,
   "metadata": {},
   "outputs": [
    {
     "data": {
      "text/html": [
       "<div>\n",
       "<table border=\"1\" class=\"dataframe\">\n",
       "  <thead>\n",
       "    <tr style=\"text-align: right;\">\n",
       "      <th></th>\n",
       "      <th>Name</th>\n",
       "      <th>Gender</th>\n",
       "    </tr>\n",
       "  </thead>\n",
       "  <tbody>\n",
       "    <tr>\n",
       "      <th>0</th>\n",
       "      <td>Aamir</td>\n",
       "      <td>Male</td>\n",
       "    </tr>\n",
       "    <tr>\n",
       "      <th>1</th>\n",
       "      <td>Aaron</td>\n",
       "      <td>Female</td>\n",
       "    </tr>\n",
       "    <tr>\n",
       "      <th>2</th>\n",
       "      <td>Aaron</td>\n",
       "      <td>Male</td>\n",
       "    </tr>\n",
       "    <tr>\n",
       "      <th>3</th>\n",
       "      <td>Abagael</td>\n",
       "      <td>Female</td>\n",
       "    </tr>\n",
       "    <tr>\n",
       "      <th>4</th>\n",
       "      <td>Abagail</td>\n",
       "      <td>Female</td>\n",
       "    </tr>\n",
       "  </tbody>\n",
       "</table>\n",
       "</div>"
      ],
      "text/plain": [
       "      Name  Gender\n",
       "0    Aamir    Male\n",
       "1    Aaron  Female\n",
       "2    Aaron    Male\n",
       "3  Abagael  Female\n",
       "4  Abagail  Female"
      ]
     },
     "execution_count": 1,
     "metadata": {},
     "output_type": "execute_result"
    }
   ],
   "source": [
    "import pandas as pd\n",
    "\n",
    "names_data = pd.read_csv('datasets/gender_by_names/names.csv')\n",
    "\n",
    "names_data.head()"
   ]
  },
  {
   "cell_type": "code",
   "execution_count": 2,
   "metadata": {},
   "outputs": [
    {
     "data": {
      "text/plain": [
       "10132"
      ]
     },
     "execution_count": 2,
     "metadata": {},
     "output_type": "execute_result"
    }
   ],
   "source": [
    "len(names_data)"
   ]
  },
  {
   "cell_type": "code",
   "execution_count": 6,
   "metadata": {},
   "outputs": [
    {
     "data": {
      "text/plain": [
       "9543"
      ]
     },
     "execution_count": 6,
     "metadata": {},
     "output_type": "execute_result"
    }
   ],
   "source": [
    "len(names_data['Name'].unique())"
   ]
  },
  {
   "cell_type": "code",
   "execution_count": 8,
   "metadata": {},
   "outputs": [],
   "source": [
    "import random\n",
    "\n",
    "names_data = names_data.drop_duplicates(subset=['Name'], keep=random.choice(['first', 'last']))"
   ]
  },
  {
   "cell_type": "code",
   "execution_count": 9,
   "metadata": {},
   "outputs": [
    {
     "data": {
      "text/plain": [
       "9543"
      ]
     },
     "execution_count": 9,
     "metadata": {},
     "output_type": "execute_result"
    }
   ],
   "source": [
    "len(names_data)"
   ]
  },
  {
   "cell_type": "code",
   "execution_count": 10,
   "metadata": {},
   "outputs": [
    {
     "data": {
      "text/html": [
       "<div>\n",
       "<table border=\"1\" class=\"dataframe\">\n",
       "  <thead>\n",
       "    <tr style=\"text-align: right;\">\n",
       "      <th></th>\n",
       "      <th>Name</th>\n",
       "      <th>Gender</th>\n",
       "    </tr>\n",
       "  </thead>\n",
       "  <tbody>\n",
       "    <tr>\n",
       "      <th>0</th>\n",
       "      <td>Aamir</td>\n",
       "      <td>1</td>\n",
       "    </tr>\n",
       "    <tr>\n",
       "      <th>2</th>\n",
       "      <td>Aaron</td>\n",
       "      <td>1</td>\n",
       "    </tr>\n",
       "    <tr>\n",
       "      <th>3</th>\n",
       "      <td>Abagael</td>\n",
       "      <td>0</td>\n",
       "    </tr>\n",
       "    <tr>\n",
       "      <th>4</th>\n",
       "      <td>Abagail</td>\n",
       "      <td>0</td>\n",
       "    </tr>\n",
       "    <tr>\n",
       "      <th>5</th>\n",
       "      <td>Abbe</td>\n",
       "      <td>0</td>\n",
       "    </tr>\n",
       "  </tbody>\n",
       "</table>\n",
       "</div>"
      ],
      "text/plain": [
       "      Name  Gender\n",
       "0    Aamir       1\n",
       "2    Aaron       1\n",
       "3  Abagael       0\n",
       "4  Abagail       0\n",
       "5     Abbe       0"
      ]
     },
     "execution_count": 10,
     "metadata": {},
     "output_type": "execute_result"
    }
   ],
   "source": [
    "names_data.head()"
   ]
  },
  {
   "cell_type": "code",
   "execution_count": 11,
   "metadata": {},
   "outputs": [],
   "source": [
    "from sklearn import preprocessing"
   ]
  },
  {
   "cell_type": "code",
   "execution_count": 12,
   "metadata": {},
   "outputs": [
    {
     "data": {
      "text/html": [
       "<div>\n",
       "<table border=\"1\" class=\"dataframe\">\n",
       "  <thead>\n",
       "    <tr style=\"text-align: right;\">\n",
       "      <th></th>\n",
       "      <th>Name</th>\n",
       "      <th>Gender</th>\n",
       "    </tr>\n",
       "  </thead>\n",
       "  <tbody>\n",
       "    <tr>\n",
       "      <th>0</th>\n",
       "      <td>Aamir</td>\n",
       "      <td>1</td>\n",
       "    </tr>\n",
       "    <tr>\n",
       "      <th>2</th>\n",
       "      <td>Aaron</td>\n",
       "      <td>1</td>\n",
       "    </tr>\n",
       "    <tr>\n",
       "      <th>3</th>\n",
       "      <td>Abagael</td>\n",
       "      <td>0</td>\n",
       "    </tr>\n",
       "    <tr>\n",
       "      <th>4</th>\n",
       "      <td>Abagail</td>\n",
       "      <td>0</td>\n",
       "    </tr>\n",
       "    <tr>\n",
       "      <th>5</th>\n",
       "      <td>Abbe</td>\n",
       "      <td>0</td>\n",
       "    </tr>\n",
       "  </tbody>\n",
       "</table>\n",
       "</div>"
      ],
      "text/plain": [
       "      Name  Gender\n",
       "0    Aamir       1\n",
       "2    Aaron       1\n",
       "3  Abagael       0\n",
       "4  Abagail       0\n",
       "5     Abbe       0"
      ]
     },
     "execution_count": 12,
     "metadata": {},
     "output_type": "execute_result"
    }
   ],
   "source": [
    "le = preprocessing.LabelEncoder()\n",
    "names_data['Gender'] = le.fit_transform(names_data['Gender'])\n",
    "names_data.head()"
   ]
  },
  {
   "cell_type": "code",
   "execution_count": 13,
   "metadata": {},
   "outputs": [],
   "source": [
    "genders = ['Female', 'Male']"
   ]
  },
  {
   "cell_type": "code",
   "execution_count": 14,
   "metadata": {},
   "outputs": [],
   "source": [
    "import string\n",
    "all_letters = string.ascii_letters + \" .,;'\""
   ]
  },
  {
   "cell_type": "code",
   "execution_count": 15,
   "metadata": {},
   "outputs": [
    {
     "data": {
      "text/plain": [
       "\"abcdefghijklmnopqrstuvwxyzABCDEFGHIJKLMNOPQRSTUVWXYZ .,;'\""
      ]
     },
     "execution_count": 15,
     "metadata": {},
     "output_type": "execute_result"
    }
   ],
   "source": [
    "n_letters = len(all_letters)\n",
    "all_letters"
   ]
  },
  {
   "cell_type": "code",
   "execution_count": 16,
   "metadata": {},
   "outputs": [],
   "source": [
    "import torch\n",
    "\n",
    "def name_to_tensor(name):\n",
    "    name_in_tensor = torch.zeros(len(name), 1, n_letters)\n",
    "    for i, letter in enumerate(name):\n",
    "        name_in_tensor[i][0][all_letters.find(letter)] = 1\n",
    "        \n",
    "    return name_in_tensor"
   ]
  },
  {
   "cell_type": "code",
   "execution_count": 17,
   "metadata": {},
   "outputs": [
    {
     "data": {
      "text/plain": [
       "tensor([[[1., 0., 0., 0., 0., 0., 0., 0., 0., 0., 0., 0., 0., 0., 0., 0., 0.,\n",
       "          0., 0., 0., 0., 0., 0., 0., 0., 0., 0., 0., 0., 0., 0., 0., 0., 0.,\n",
       "          0., 0., 0., 0., 0., 0., 0., 0., 0., 0., 0., 0., 0., 0., 0., 0., 0.,\n",
       "          0., 0., 0., 0., 0., 0.]]])"
      ]
     },
     "execution_count": 17,
     "metadata": {},
     "output_type": "execute_result"
    }
   ],
   "source": [
    "name_to_tensor('a')"
   ]
  },
  {
   "cell_type": "code",
   "execution_count": 18,
   "metadata": {},
   "outputs": [
    {
     "data": {
      "text/plain": [
       "tensor([[[1., 0., 0., 0., 0., 0., 0., 0., 0., 0., 0., 0., 0., 0., 0., 0., 0.,\n",
       "          0., 0., 0., 0., 0., 0., 0., 0., 0., 0., 0., 0., 0., 0., 0., 0., 0.,\n",
       "          0., 0., 0., 0., 0., 0., 0., 0., 0., 0., 0., 0., 0., 0., 0., 0., 0.,\n",
       "          0., 0., 0., 0., 0., 0.]],\n",
       "\n",
       "        [[0., 0., 0., 0., 0., 0., 0., 0., 0., 0., 0., 0., 0., 0., 0., 0., 0.,\n",
       "          0., 0., 0., 0., 0., 0., 0., 0., 0., 1., 0., 0., 0., 0., 0., 0., 0.,\n",
       "          0., 0., 0., 0., 0., 0., 0., 0., 0., 0., 0., 0., 0., 0., 0., 0., 0.,\n",
       "          0., 0., 0., 0., 0., 0.]]])"
      ]
     },
     "execution_count": 18,
     "metadata": {},
     "output_type": "execute_result"
    }
   ],
   "source": [
    "name_to_tensor('aA')"
   ]
  },
  {
   "cell_type": "code",
   "execution_count": 19,
   "metadata": {},
   "outputs": [],
   "source": [
    "import torch.nn as nn\n",
    "\n",
    "class RNN(nn.Module):\n",
    "    def __init__(self, input_size, hidden_size, output_size):\n",
    "        super(RNN, self).__init__()\n",
    "        \n",
    "        self.hidden_size = hidden_size\n",
    "        \n",
    "        self.i2h = nn.Linear(input_size + hidden_size, hidden_size)\n",
    "        self.i2o = nn.Linear(input_size + hidden_size, output_size)\n",
    "        self.softmax = nn.LogSoftmax(dim=1)\n",
    "        \n",
    "    def forward(self, input, hidden):\n",
    "        combined = torch.cat((input, hidden), 1)\n",
    "        hidden = self.i2h(combined)\n",
    "        output = self.i2o(combined)\n",
    "        output = self.softmax(output)\n",
    "        return output, hidden\n",
    "    \n",
    "    def initHidden(self):\n",
    "        return torch.zeros(1, self.hidden_size)"
   ]
  },
  {
   "cell_type": "code",
   "execution_count": 20,
   "metadata": {},
   "outputs": [],
   "source": [
    "n_hidden = 128\n",
    "n_genders = len(genders)\n",
    "\n",
    "rnn = RNN(n_letters, n_hidden, output_size = n_genders)"
   ]
  },
  {
   "cell_type": "code",
   "execution_count": 21,
   "metadata": {},
   "outputs": [],
   "source": [
    "iterations = 100000\n",
    "\n",
    "criterion = nn.NLLLoss()\n",
    "\n",
    "learning_rate = 0.005"
   ]
  },
  {
   "cell_type": "code",
   "execution_count": 22,
   "metadata": {},
   "outputs": [],
   "source": [
    "def output_to_gender(output):\n",
    "    top_n, top_index = output.topk(1)\n",
    "    pred_i = top_index[0].item()\n",
    "    pred = genders[pred_i]\n",
    "    \n",
    "    return pred"
   ]
  },
  {
   "cell_type": "code",
   "execution_count": 23,
   "metadata": {},
   "outputs": [],
   "source": [
    "import random"
   ]
  },
  {
   "cell_type": "code",
   "execution_count": 24,
   "metadata": {},
   "outputs": [
    {
     "name": "stdout",
     "output_type": "stream",
     "text": [
      "iters- 5000 5% (0.7001264691352844) Name- Magaly Gender- Male N (Female)\n",
      "iters- 10000 10% (0.3311519920825958) Name- Mohamad Gender- Male Y\n",
      "iters- 15000 15% (0.30288660526275635) Name- Carlynn Gender- Female Y\n",
      "iters- 20000 20% (0.007616758346557617) Name- Rasheeda Gender- Female Y\n",
      "iters- 25000 25% (0.8367712497711182) Name- Beatrice Gender- Male N (Female)\n",
      "iters- 30000 30% (0.009732723236083984) Name- Michelina Gender- Female Y\n",
      "iters- 35000 35% (0.19788998365402222) Name- Bobbette Gender- Female Y\n",
      "iters- 40000 40% (0.23715358972549438) Name- Raine Gender- Female Y\n",
      "iters- 45000 45% (0.5699573755264282) Name- Deshawn Gender- Male Y\n",
      "iters- 50000 50% (1.8522062301635742) Name- Sloane Gender- Female N (Male)\n",
      "iters- 55000 55% (0.034534454345703125) Name- Sherwood Gender- Male Y\n",
      "iters- 60000 60% (2.7122182846069336) Name- Vassili Gender- Female N (Male)\n",
      "iters- 65000 65% (0.2923753261566162) Name- Fox Gender- Male Y\n",
      "iters- 70000 70% (0.281310498714447) Name- Zackariah Gender- Male Y\n",
      "iters- 75000 75% (0.17771518230438232) Name- Osbert Gender- Male Y\n",
      "iters- 80000 80% (0.16754192113876343) Name- Jennie Gender- Female Y\n",
      "iters- 85000 85% (0.596281886100769) Name- Jacque Gender- Female Y\n",
      "iters- 90000 90% (0.005373477935791016) Name- Klarrisa Gender- Female Y\n",
      "iters- 95000 95% (0.01611196994781494) Name- Beata Gender- Female Y\n",
      "iters- 100000 100% (0.00816798210144043) Name- Johana Gender- Female Y\n"
     ]
    }
   ],
   "source": [
    "for iteration in range(1, iterations + 1):\n",
    "    \n",
    "    i = random.randint(0, len(names_data) - 1)\n",
    "    \n",
    "    name = names_data.iloc[i][0]\n",
    "    name_in_tensor = name_to_tensor(name)\n",
    "    \n",
    "    gender = names_data.iloc[i][1]\n",
    "    gender_in_tensor = torch.LongTensor([gender])\n",
    "    \n",
    "    hidden = rnn.initHidden()\n",
    "    rnn.zero_grad()\n",
    "    \n",
    "    for i in range(name_in_tensor.size()[0]):\n",
    "        output, hidden = rnn(name_in_tensor[i], hidden)\n",
    "    \n",
    "    loss = criterion(output, gender_in_tensor)\n",
    "    loss.backward()\n",
    "    \n",
    "    for p in rnn.parameters():\n",
    "        p.data.add_(-learning_rate, p.grad.data)\n",
    "        \n",
    "    if iteration% 5000 == 0:\n",
    "        pred = output_to_gender(output)\n",
    "        correct = 'Y' if pred == genders[gender] else 'N (%s)' % genders[gender]\n",
    "        print('iters- %d %d%% (%s) Name- %s Gender- %s %s' % (iteration, iteration/iterations*100, loss.item(), name, pred, correct))"
   ]
  },
  {
   "cell_type": "code",
   "execution_count": 25,
   "metadata": {},
   "outputs": [],
   "source": [
    "n_confusion = 10000\n",
    "\n",
    "prediction = []\n",
    "actual = []\n",
    "\n",
    "for _ in range(n_confusion):\n",
    "    \n",
    "    i = random.randint(0, len(names_data) - 1)\n",
    "    \n",
    "    name = names_data.iloc[i][0]\n",
    "    name_in_tensor = name_to_tensor(name)\n",
    "    \n",
    "    gender_idx = names_data.iloc[i][1]\n",
    "    gender_in_tensor = torch.LongTensor([gender_idx])\n",
    "    \n",
    "    hidden = rnn.initHidden()\n",
    "    \n",
    "    for j in range(name_in_tensor.size()[0]):\n",
    "        output, hidden = rnn(name_in_tensor[j], hidden)\n",
    "        \n",
    "    pred = output_to_gender(output)\n",
    "    \n",
    "    prediction.append(pred)\n",
    "    actual.append(genders[gender_idx])"
   ]
  },
  {
   "cell_type": "code",
   "execution_count": 26,
   "metadata": {},
   "outputs": [
    {
     "name": "stdout",
     "output_type": "stream",
     "text": [
      "Collecting pandas_ml\n",
      "  Downloading https://files.pythonhosted.org/packages/c1/28/19289aabaecac9bd7ea34c43310fa16bbdda818e1f635747e81b376526ca/pandas_ml-0.5.0.tar.gz (76kB)\n",
      "Requirement already satisfied: pandas>=0.17.0 in c:\\python35\\lib\\site-packages (from pandas_ml) (0.19.2)\n",
      "Collecting enum34 (from pandas_ml)\n",
      "  Downloading https://files.pythonhosted.org/packages/af/42/cb9355df32c69b553e72a2e28daee25d1611d2c0d9c272aa1d34204205b2/enum34-1.1.6-py3-none-any.whl\n",
      "Requirement already satisfied: python-dateutil>=2 in c:\\python35\\lib\\site-packages (from pandas>=0.17.0->pandas_ml) (2.6.0)\n",
      "Requirement already satisfied: pytz>=2011k in c:\\python35\\lib\\site-packages (from pandas>=0.17.0->pandas_ml) (2016.10)\n",
      "Requirement already satisfied: numpy>=1.7.0 in c:\\python35\\lib\\site-packages (from pandas>=0.17.0->pandas_ml) (1.12.0)\n",
      "Requirement already satisfied: six>=1.5 in c:\\python35\\lib\\site-packages (from python-dateutil>=2->pandas>=0.17.0->pandas_ml) (1.10.0)\n",
      "Building wheels for collected packages: pandas-ml\n",
      "  Running setup.py bdist_wheel for pandas-ml: started\n",
      "  Running setup.py bdist_wheel for pandas-ml: finished with status 'done'\n",
      "  Stored in directory: C:\\Users\\isuru\\AppData\\Local\\pip\\Cache\\wheels\\4b\\b0\\88\\51fb7203a0f81becae3e92d5bf9fee0460375e5408e67a7dc3\n",
      "Successfully built pandas-ml\n",
      "Installing collected packages: enum34, pandas-ml\n",
      "Successfully installed enum34-1.1.6 pandas-ml-0.5.0\n"
     ]
    }
   ],
   "source": [
    "!pip install pandas_ml"
   ]
  },
  {
   "cell_type": "code",
   "execution_count": 27,
   "metadata": {},
   "outputs": [],
   "source": [
    "from pandas_ml import ConfusionMatrix\n",
    "import numpy as np"
   ]
  },
  {
   "cell_type": "code",
   "execution_count": 28,
   "metadata": {},
   "outputs": [],
   "source": [
    "np_prediction = np.array(prediction)\n",
    "np_actual = np.array(actual)"
   ]
  },
  {
   "cell_type": "code",
   "execution_count": 29,
   "metadata": {},
   "outputs": [
    {
     "data": {
      "text/plain": [
       "Predicted  False  True  __all__\n",
       "Actual                         \n",
       "False       2301   733     3034\n",
       "True        1022  5944     6966\n",
       "__all__     3323  6677    10000"
      ]
     },
     "execution_count": 29,
     "metadata": {},
     "output_type": "execute_result"
    }
   ],
   "source": [
    "cm = ConfusionMatrix(np.where(np_prediction == 'Female', True, False), np.where(np_actual == 'Female', True, False))\n",
    "\n",
    "cm"
   ]
  },
  {
   "cell_type": "code",
   "execution_count": 31,
   "metadata": {},
   "outputs": [
    {
     "data": {
      "image/png": "[encoded data removed]",
      "text/plain": [
       "<matplotlib.figure.Figure at 0x21ee6568780>"
      ]
     },
     "metadata": {
      "needs_background": "light"
     },
     "output_type": "display_data"
    }
   ],
   "source": [
    "import matplotlib.pyplot as plt\n",
    "cm.plot(normalized=True)\n",
    "plt.show()"
   ]
  },
  {
   "cell_type": "code",
   "execution_count": null,
   "metadata": {},
   "outputs": [],
   "source": []
  }
 ],
 "metadata": {
  "kernelspec": {
   "display_name": "Python 3",
   "language": "python",
   "name": "python3"
  },
  "language_info": {
   "codemirror_mode": {
    "name": "ipython",
    "version": 3
   },
   "file_extension": ".py",
   "mimetype": "text/x-python",
   "name": "python",
   "nbconvert_exporter": "python",
   "pygments_lexer": "ipython3",
   "version": "3.5.3"
  }
 },
 "nbformat": 4,
 "nbformat_minor": 2
}
