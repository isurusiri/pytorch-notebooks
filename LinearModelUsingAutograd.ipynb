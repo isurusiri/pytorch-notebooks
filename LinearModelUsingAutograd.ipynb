{
 "cells": [
  {
   "cell_type": "code",
   "execution_count": 1,
   "metadata": {},
   "outputs": [],
   "source": [
    "import numpy as np\n",
    "import matplotlib.pyplot as plt"
   ]
  },
  {
   "cell_type": "code",
   "execution_count": 2,
   "metadata": {},
   "outputs": [],
   "source": [
    "x_train = np.array([[3.3], [4.4], [5.5], [6.71], [6.93], [4.168],\n",
    "                   [9.779], [6.182], [7.59], [2.167], [7.042],\n",
    "                   [10.791], [5.313], [7.997], [3.1]],\n",
    "                   dtype = np.float32)\n",
    "\n",
    "y_train = np.array([[1.7], [2.76], [2.09], [3.19], [1.694], [1.573],\n",
    "                   [3.366], [2.596], [2.53], [1.221], [2.827], \n",
    "                   [3.465], [1.65], [2.904], [1.3]],\n",
    "                   dtype = np.float32)"
   ]
  },
  {
   "cell_type": "code",
   "execution_count": 3,
   "metadata": {},
   "outputs": [
    {
     "data": {
      "image/png": "[encoded data removed]",
      "text/plain": [
       "<matplotlib.figure.Figure at 0x1f0fe232b38>"
      ]
     },
     "metadata": {
      "needs_background": "light"
     },
     "output_type": "display_data"
    }
   ],
   "source": [
    "plt.plot(x_train, y_train, 'ro', label = 'Original data')\n",
    "\n",
    "plt.show()"
   ]
  },
  {
   "cell_type": "code",
   "execution_count": 4,
   "metadata": {},
   "outputs": [],
   "source": [
    "import torch"
   ]
  },
  {
   "cell_type": "code",
   "execution_count": 5,
   "metadata": {},
   "outputs": [
    {
     "name": "stdout",
     "output_type": "stream",
     "text": [
      "requires_grad for X_train:  False\n",
      "requires_grad for Y_train:  False\n"
     ]
    }
   ],
   "source": [
    "X_train = torch.from_numpy(x_train)\n",
    "Y_train = torch.from_numpy(y_train)\n",
    "\n",
    "print('requires_grad for X_train: ', X_train.requires_grad)\n",
    "print('requires_grad for Y_train: ', Y_train.requires_grad)"
   ]
  },
  {
   "cell_type": "code",
   "execution_count": 6,
   "metadata": {},
   "outputs": [],
   "source": [
    "input_size = 1\n",
    "hidden_size = 100\n",
    "output_size = 1\n",
    "learning_rate = 1e-6"
   ]
  },
  {
   "cell_type": "code",
   "execution_count": 7,
   "metadata": {},
   "outputs": [
    {
     "data": {
      "text/plain": [
       "torch.Size([1, 100])"
      ]
     },
     "execution_count": 7,
     "metadata": {},
     "output_type": "execute_result"
    }
   ],
   "source": [
    "w1 = torch.rand(input_size, hidden_size, requires_grad=True)\n",
    "w1.shape"
   ]
  },
  {
   "cell_type": "code",
   "execution_count": 8,
   "metadata": {},
   "outputs": [
    {
     "data": {
      "text/plain": [
       "torch.Size([1, 100])"
      ]
     },
     "execution_count": 8,
     "metadata": {},
     "output_type": "execute_result"
    }
   ],
   "source": [
    "w2 = torch.rand(input_size, hidden_size, requires_grad=True)\n",
    "w2.shape"
   ]
  },
  {
   "cell_type": "code",
   "execution_count": 9,
   "metadata": {},
   "outputs": [
    {
     "data": {
      "text/plain": [
       "torch.Size([100, 1])"
      ]
     },
     "execution_count": 9,
     "metadata": {},
     "output_type": "execute_result"
    }
   ],
   "source": [
    "w2 = torch.rand(hidden_size, output_size, requires_grad=True)\n",
    "w2.shape"
   ]
  },
  {
   "cell_type": "code",
   "execution_count": 11,
   "metadata": {},
   "outputs": [
    {
     "name": "stdout",
     "output_type": "stream",
     "text": [
      "50 3850.36669921875\n",
      "100 113.99421691894531\n",
      "150 6.983392715454102\n",
      "200 3.734529733657837\n",
      "250 3.6357262134552\n",
      "300 3.632721424102783\n"
     ]
    }
   ],
   "source": [
    "for iter in range(1, 301):\n",
    "    y_pred = X_train.mm(w1).clamp(min=0).mm(w2)\n",
    "    loss = (y_pred - Y_train).pow(2).sum()\n",
    "    \n",
    "    if iter % 50 == 0:\n",
    "        print(iter, loss.item())\n",
    "        \n",
    "    loss.backward()\n",
    "    \n",
    "    with torch.no_grad():\n",
    "        w1 -= learning_rate * w1.grad\n",
    "        w2 -= learning_rate * w2.grad\n",
    "        w1.grad.zero_()\n",
    "        w2.grad.zero_()"
   ]
  },
  {
   "cell_type": "code",
   "execution_count": 12,
   "metadata": {},
   "outputs": [
    {
     "name": "stdout",
     "output_type": "stream",
     "text": [
      "w1:  tensor([[ 0.7678, -0.0019,  0.6649, -0.0087,  0.5797, -0.0043,  0.0180,  0.8047,\n",
      "          0.2353,  0.8984, -0.0021,  0.1115,  0.4620,  0.5640,  0.7648,  0.5523,\n",
      "         -0.0226,  0.3816,  0.4910, -0.0087,  0.0350,  0.9073,  0.3583,  0.6053,\n",
      "          0.3389,  0.4101,  0.5123,  0.0445,  0.6972, -0.0031,  0.7143,  0.2106,\n",
      "         -0.0079,  0.0852, -0.0017, -0.0019,  0.2256, -0.0059,  0.4841,  0.3275,\n",
      "          0.4966,  0.6361,  0.4408, -0.0047,  0.4158,  0.8777, -0.0106, -0.0062,\n",
      "          0.2074,  0.0193, -0.0006,  0.1798,  0.2662,  0.1014,  0.2989,  0.6057,\n",
      "          0.2816,  0.6172,  0.7628, -0.0052,  0.6161, -0.0077,  0.2046, -0.0076,\n",
      "          0.4873,  0.0360,  0.3860,  0.6038,  0.1465, -0.0003,  0.7470,  0.3311,\n",
      "          0.7838, -0.0047,  0.1367, -0.0054,  0.0361, -0.0163,  0.4703, -0.0168,\n",
      "          0.4924,  0.4712,  0.6025,  0.3752, -0.0017, -0.0004,  0.1233, -0.0070,\n",
      "          0.4706, -0.0017,  1.1538,  0.4508,  0.7863,  0.3774, -0.0041,  0.2262,\n",
      "          0.4243,  0.0895, -0.0031, -0.0062]], requires_grad=True)\n",
      "w2:  tensor([[-0.3227],\n",
      "        [ 0.7986],\n",
      "        [ 0.2100],\n",
      "        [ 0.7348],\n",
      "        [-0.2248],\n",
      "        [ 0.7277],\n",
      "        [ 0.1794],\n",
      "        [-0.0306],\n",
      "        [ 0.4108],\n",
      "        [-0.4018],\n",
      "        [ 0.7426],\n",
      "        [ 0.6049],\n",
      "        [ 0.3510],\n",
      "        [ 0.3106],\n",
      "        [-0.3882],\n",
      "        [-0.2925],\n",
      "        [ 0.9810],\n",
      "        [ 0.5446],\n",
      "        [ 0.5253],\n",
      "        [ 0.7345],\n",
      "        [ 0.5208],\n",
      "        [-0.3470],\n",
      "        [ 0.2705],\n",
      "        [-0.1846],\n",
      "        [-0.1254],\n",
      "        [ 0.1147],\n",
      "        [-0.0236],\n",
      "        [ 0.5412],\n",
      "        [-0.1931],\n",
      "        [ 0.6023],\n",
      "        [-0.0389],\n",
      "        [ 0.6017],\n",
      "        [ 0.7855],\n",
      "        [ 0.0317],\n",
      "        [ 0.8723],\n",
      "        [ 0.6139],\n",
      "        [ 0.4239],\n",
      "        [ 0.5952],\n",
      "        [ 0.4565],\n",
      "        [ 0.1170],\n",
      "        [ 0.3933],\n",
      "        [-0.1182],\n",
      "        [ 0.2165],\n",
      "        [ 0.7570],\n",
      "        [-0.0108],\n",
      "        [-0.2685],\n",
      "        [ 0.9015],\n",
      "        [ 0.5875],\n",
      "        [ 0.3623],\n",
      "        [ 0.6214],\n",
      "        [ 0.7091],\n",
      "        [ 0.3878],\n",
      "        [ 0.0443],\n",
      "        [ 0.2792],\n",
      "        [ 0.5383],\n",
      "        [-0.1848],\n",
      "        [ 0.4126],\n",
      "        [-0.1282],\n",
      "        [-0.1803],\n",
      "        [ 0.3931],\n",
      "        [ 0.1648],\n",
      "        [ 0.6442],\n",
      "        [-0.0429],\n",
      "        [ 0.7659],\n",
      "        [-0.1654],\n",
      "        [ 0.6789],\n",
      "        [-0.0086],\n",
      "        [ 0.1711],\n",
      "        [ 0.7092],\n",
      "        [ 0.4605],\n",
      "        [-0.1194],\n",
      "        [ 0.0258],\n",
      "        [-0.0480],\n",
      "        [ 0.6523],\n",
      "        [ 0.0775],\n",
      "        [ 0.7163],\n",
      "        [ 0.7898],\n",
      "        [ 0.6264],\n",
      "        [ 0.0022],\n",
      "        [ 0.9099],\n",
      "        [ 0.4376],\n",
      "        [ 0.5198],\n",
      "        [ 0.0172],\n",
      "        [-0.1919],\n",
      "        [ 0.5010],\n",
      "        [ 0.4807],\n",
      "        [ 0.6885],\n",
      "        [ 0.7273],\n",
      "        [ 0.1332],\n",
      "        [ 0.7361],\n",
      "        [-0.6517],\n",
      "        [ 0.1934],\n",
      "        [-0.2727],\n",
      "        [ 0.4021],\n",
      "        [ 0.7267],\n",
      "        [ 0.5575],\n",
      "        [ 0.5034],\n",
      "        [ 0.1207],\n",
      "        [ 0.9635],\n",
      "        [ 0.5755]], requires_grad=True)\n"
     ]
    }
   ],
   "source": [
    "print('w1: ', w1)\n",
    "print('w2: ', w2)"
   ]
  },
  {
   "cell_type": "code",
   "execution_count": 13,
   "metadata": {},
   "outputs": [
    {
     "data": {
      "text/plain": [
       "tensor([[ 3.3000],\n",
       "        [ 4.4000],\n",
       "        [ 5.5000],\n",
       "        [ 6.7100],\n",
       "        [ 6.9300],\n",
       "        [ 4.1680],\n",
       "        [ 9.7790],\n",
       "        [ 6.1820],\n",
       "        [ 7.5900],\n",
       "        [ 2.1670],\n",
       "        [ 7.0420],\n",
       "        [10.7910],\n",
       "        [ 5.3130],\n",
       "        [ 7.9970],\n",
       "        [ 3.1000]])"
      ]
     },
     "execution_count": 13,
     "metadata": {},
     "output_type": "execute_result"
    }
   ],
   "source": [
    "x_train_tensor = torch.from_numpy(x_train)\n",
    "x_train_tensor"
   ]
  },
  {
   "cell_type": "code",
   "execution_count": 14,
   "metadata": {},
   "outputs": [
    {
     "data": {
      "text/plain": [
       "tensor([[1.2127],\n",
       "        [1.6170],\n",
       "        [2.0212],\n",
       "        [2.4658],\n",
       "        [2.5467],\n",
       "        [1.5317],\n",
       "        [3.5937],\n",
       "        [2.2718],\n",
       "        [2.7892],\n",
       "        [0.7963],\n",
       "        [2.5879],\n",
       "        [3.9656],\n",
       "        [1.9525],\n",
       "        [2.9388],\n",
       "        [1.1392]], grad_fn=<MmBackward>)"
      ]
     },
     "execution_count": 14,
     "metadata": {},
     "output_type": "execute_result"
    }
   ],
   "source": [
    "predicted_in_tensor = x_train_tensor.mm(w1).clamp(min=0).mm(w2)\n",
    "predicted_in_tensor"
   ]
  },
  {
   "cell_type": "code",
   "execution_count": 15,
   "metadata": {},
   "outputs": [
    {
     "data": {
      "text/plain": [
       "array([[ 1.21271288],\n",
       "       [ 1.61695051],\n",
       "       [ 2.02118826],\n",
       "       [ 2.46584988],\n",
       "       [ 2.54669714],\n",
       "       [ 1.53169274],\n",
       "       [ 3.59367275],\n",
       "       [ 2.27181602],\n",
       "       [ 2.78924084],\n",
       "       [ 0.79634821],\n",
       "       [ 2.58785558],\n",
       "       [ 3.9655714 ],\n",
       "       [ 1.95246804],\n",
       "       [ 2.93880701],\n",
       "       [ 1.13921523]], dtype=float32)"
      ]
     },
     "execution_count": 15,
     "metadata": {},
     "output_type": "execute_result"
    }
   ],
   "source": [
    "predicted = predicted_in_tensor.detach().numpy()\n",
    "predicted"
   ]
  },
  {
   "cell_type": "code",
   "execution_count": 16,
   "metadata": {},
   "outputs": [
    {
     "data": {
      "image/png": "[encoded data removed]",
      "text/plain": [
       "<matplotlib.figure.Figure at 0x1f0feae99e8>"
      ]
     },
     "metadata": {
      "needs_background": "light"
     },
     "output_type": "display_data"
    }
   ],
   "source": [
    "plt.plot(x_train, y_train, 'ro', label = 'Original data')\n",
    "\n",
    "plt.plot(x_train, predicted, label = 'Filtered line')\n",
    "\n",
    "plt.legend()\n",
    "\n",
    "plt.show()"
   ]
  },
  {
   "cell_type": "code",
   "execution_count": null,
   "metadata": {},
   "outputs": [],
   "source": []
  }
 ],
 "metadata": {
  "kernelspec": {
   "display_name": "Python 3",
   "language": "python",
   "name": "python3"
  },
  "language_info": {
   "codemirror_mode": {
    "name": "ipython",
    "version": 3
   },
   "file_extension": ".py",
   "mimetype": "text/x-python",
   "name": "python",
   "nbconvert_exporter": "python",
   "pygments_lexer": "ipython3",
   "version": "3.5.3"
  }
 },
 "nbformat": 4,
 "nbformat_minor": 2
}
